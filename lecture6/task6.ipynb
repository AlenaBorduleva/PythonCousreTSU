{
 "cells": [
  {
   "cell_type": "markdown",
   "metadata": {},
   "source": [
    "Написать функцию, которая ищет один любой экстремум функции одной переменной на заданном интервале. Можно использовать любой алгоритм или метод, но реализовать его самостоятельно. Если экстремума нет, то выдавать None. Можно передавать любые дополнительные параметры, если потребуется.\n",
    "Опционально: выдавать дополнительно вид экстремума."
   ]
  },
  {
   "cell_type": "code",
   "execution_count": 109,
   "metadata": {
    "scrolled": false
   },
   "outputs": [
    {
     "name": "stdout",
     "output_type": "stream",
     "text": [
      "tochka_peregiba -0.0\n",
      "None\n"
     ]
    }
   ],
   "source": [
    "#Для вычисления производной воспользуемся библиотекой Sympy\n",
    "from sympy import * \n",
    "\n",
    "def Function(x):\n",
    "    return x**3 \n",
    "\n",
    "def Extremum(a, b, *, func):\n",
    "    x = symbols('x') #создаём/определяем символьные переменные, от которых зависит функция\n",
    "    y = func(x)\n",
    "    y_pr = y.diff(x) #берём первую производную по x от заданной функции\n",
    "    \n",
    "    deriv_func = lambdify(x, y_pr) #этот модуль даёт возможность преобразовать продиффиринцированную функцию к выражению, которое можно использовать для вычисления числовых значений (нашла на просторах интернета)\n",
    "    \n",
    "    i = a\n",
    "    step = 0.1 \n",
    "    \n",
    "    while i <= b:\n",
    "        deriv_val = round(deriv_func (i), 2)\n",
    "        if deriv_val == 0: \n",
    "            if deriv_func (i - step) > 0 and deriv_func (i + step) < 0:\n",
    "                print(\"local_max is\", end =' ') \n",
    "            if deriv_func (i - step) < 0 and deriv_func (i + step) > 0:\n",
    "                print(\"local_min is\", end =' ') \n",
    "            if deriv_func (i + step) < 0 and deriv_func (i - step) < 0:\n",
    "                print(\"tochka_peregiba\", end =' ') \n",
    "            if deriv_func (i + step) > 0 and deriv_func (i - step) > 0:\n",
    "                print(\"tochka_peregiba\", end =' ')    \n",
    "            return round(Function(i), 2)   \n",
    "        i = i + step\n",
    "    return None\n",
    "\n",
    "result = Extremum(-10, 10, func = Function)\n",
    "print(result)\n",
    "\n",
    "result = Extremum(-20, -10, func = Function)\n",
    "print(result) "
   ]
  },
  {
   "cell_type": "code",
   "execution_count": null,
   "metadata": {},
   "outputs": [],
   "source": []
  }
 ],
 "metadata": {
  "kernelspec": {
   "display_name": "Python 3",
   "language": "python",
   "name": "python3"
  },
  "language_info": {
   "codemirror_mode": {
    "name": "ipython",
    "version": 3
   },
   "file_extension": ".py",
   "mimetype": "text/x-python",
   "name": "python",
   "nbconvert_exporter": "python",
   "pygments_lexer": "ipython3",
   "version": "3.7.6"
  }
 },
 "nbformat": 4,
 "nbformat_minor": 4
}
