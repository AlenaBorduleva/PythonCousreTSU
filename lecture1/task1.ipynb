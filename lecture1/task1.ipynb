{
 "cells": [
  {
   "cell_type": "markdown",
   "metadata": {},
   "source": [
    "Вам необходимо написать программу, которая находит длину третьей стороны произвольного треугольника по двум его сторонам и углу между ними. Можно использовать для этого теорему косинусов.\n",
    "Таким образом, программа должна спрашивать пользователя параметры треугольника: длину первой стороны, длину второй стороны и угол между ними в градусах."
   ]
  },
  {
   "cell_type": "code",
   "execution_count": 8,
   "metadata": {},
   "outputs": [
    {
     "name": "stdout",
     "output_type": "stream",
     "text": [
      "1\n",
      "1\n",
      "0\n",
      "error\n"
     ]
    }
   ],
   "source": [
    "from math import sqrt, cos, radians\n",
    "\n",
    "b = float(input())\n",
    "c = float(input())\n",
    "alfa = float(input())\n",
    "\n",
    "if b <= 0 or c <= 0 or alfa <= 0:\n",
    "    print(\"error\")\n",
    "else:  \n",
    "    a = sqrt(b**2 + c**2 - 2*b*c*cos(radians(alfa)))   \n",
    "\n",
    "    print(round(a, 4))"
   ]
  },
  {
   "cell_type": "code",
   "execution_count": null,
   "metadata": {},
   "outputs": [],
   "source": []
  }
 ],
 "metadata": {
  "kernelspec": {
   "display_name": "Python 3",
   "language": "python",
   "name": "python3"
  },
  "language_info": {
   "codemirror_mode": {
    "name": "ipython",
    "version": 3
   },
   "file_extension": ".py",
   "mimetype": "text/x-python",
   "name": "python",
   "nbconvert_exporter": "python",
   "pygments_lexer": "ipython3",
   "version": "3.7.6"
  }
 },
 "nbformat": 4,
 "nbformat_minor": 4
}
